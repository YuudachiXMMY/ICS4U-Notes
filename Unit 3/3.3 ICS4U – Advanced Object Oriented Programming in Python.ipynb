{
 "cells": [
  {
   "cell_type": "markdown",
   "metadata": {},
   "source": [
    "# ICS4U – Advanced Object Oriented Programming in Python\n",
    "## ICS4U Learning Goals\n",
    "In this ICS4U Grade 12 Computer Science lesson you will be learning how to\n",
    "\n",
    "- Understand the difference between Instance Variables and Class Methods\n",
    "\n",
    "- Use Methods, class methods, and static methods\n",
    "\n",
    "- Use Inheritance to write subclasses that extend parent classes"
   ]
  },
  {
   "cell_type": "markdown",
   "metadata": {},
   "source": [
    "<br>\n",
    "\n",
    "# More Advanced Object Oriented Topics\n",
    "In this lesson you will be going through a video series on Object Oriented Programming. Some of the material will be similiar to what you learned in the previous lesson and some of it will be new. It uses more advanced terminology to describe how things work in an Object Oriented Paradigm. They are example based lessons, so you need to watch all of them because each continues from the previous\n",
    "\n",
    "You will want to pay particular attention to Part 4 – Inheritence and Subclasses. It is used extensively in the remainder of the course. The practice questions at the end of the lesson will focus on that concept"
   ]
  },
  {
   "cell_type": "markdown",
   "metadata": {},
   "source": [
    "<br>\n",
    "\n",
    "## Part 1 - Creating Classes\n",
    "Not a lot of new stuff but the instructor sets up the rest of the lessons, so make sure you watch all of it. \n",
    "\n",
    "[Python OOP Tutorial 1: Classes and Instances](https://www.youtube.com/watch?v=ZDa-Z5JzLYM)"
   ]
  },
  {
   "cell_type": "markdown",
   "metadata": {},
   "source": [
    "<br>\n",
    "\n",
    "## Part 2 - Class Variables\n",
    "\n",
    "[Python OOP Tutorial 2: Class Variables](https://www.youtube.com/watch?v=BJ-VvGyQxho)"
   ]
  },
  {
   "cell_type": "markdown",
   "metadata": {},
   "source": [
    "<br>\n",
    "\n",
    "## Part 3 - Class Methods and Static Methods\n",
    "\n",
    "[Python OOP Tutorial 3: classmethods and staticmethods](https://www.youtube.com/watch?v=rq8cL2XMM5M)"
   ]
  },
  {
   "cell_type": "markdown",
   "metadata": {},
   "source": [
    "<br>\n",
    "\n",
    "## Part 4 - Inheritance and Subclasses\n",
    "\n",
    "[Python OOP Tutorial 4: Inheritance - Creating Subclasses](https://www.youtube.com/watch?v=RSl87lqOXDE)"
   ]
  },
  {
   "cell_type": "markdown",
   "metadata": {},
   "source": [
    "<br>\n",
    "\n",
    "## Part 5 - Special Methods\n",
    "\n",
    "[Python OOP Tutorial 5: Special (Magic/Dunder) Methods](https://www.youtube.com/watch?v=3ohzBxoFHAY)"
   ]
  },
  {
   "cell_type": "markdown",
   "metadata": {},
   "source": [
    "<br>\n",
    "\n",
    "## Part 6 - Property Decorators\n",
    "\n",
    "[Python OOP Tutorial 6: Property Decorators - Getters, Setters, and Deleters](https://www.youtube.com/watch?v=jCzT9XFZ5bw)"
   ]
  }
 ],
 "metadata": {
  "language_info": {
   "name": "python"
  }
 },
 "nbformat": 4,
 "nbformat_minor": 2
}
