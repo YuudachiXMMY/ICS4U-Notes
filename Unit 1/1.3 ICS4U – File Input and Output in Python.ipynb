{
 "cells": [
  {
   "cell_type": "markdown",
   "metadata": {},
   "source": [
    "# ICS4U – File Input and Output in Python\n",
    "## ICS4U Learning Goals\n",
    "In this ICS4U Grade 12 Computer Science lesson you will be learning how to\n",
    "\n",
    "- Read Data from a File\n",
    "\n",
    "- Write Data to a File"
   ]
  },
  {
   "cell_type": "markdown",
   "metadata": {},
   "source": [
    "<br>\n",
    "\n",
    "## Opening a Text File for Reading\n",
    "Text files can be accessed using two different methods\n",
    "\n",
    "- Random Access -> The program can start reading at any place within th file\n",
    "\n",
    "- Sequential Access -> The program starts reading at the start of the file only\n",
    "\n",
    "In this course, we are only going to look at Sequential Access\n",
    "\n",
    "One of the more frustrating aspects of FileIO is making sure Python can actually find the data file. In this course I would recommend putting the file in same directory as your program (or maybe a subdirectory). If you do that it “should” be easy for python to find the file\n",
    "\n",
    "Suppose you had information stored in a file on your computer called “data.txt”\n",
    "\n",
    "If the file is in the same directory as your python program, then the following code would open the text file for reading\n"
   ]
  },
  {
   "cell_type": "code",
   "execution_count": null,
   "metadata": {},
   "outputs": [],
   "source": [
    "file = open(\"data.txt\",\"r\")"
   ]
  },
  {
   "cell_type": "markdown",
   "metadata": {},
   "source": [
    "If the file is in a subfolder that is in the same directory as your python program, then the following code would open the text file for reading"
   ]
  },
  {
   "cell_type": "code",
   "execution_count": null,
   "metadata": {},
   "outputs": [],
   "source": [
    "file = open(\"MyFiles/data.txt\",\"r\")"
   ]
  },
  {
   "cell_type": "markdown",
   "metadata": {},
   "source": [
    "<br>\n",
    "\n",
    "## Reading The Data\n",
    "Once the file is open you can use the `readline()` function to get the data from each line of the file.  Every time that function is called, it reads the entire line of the file as String, then puts the file pointer to the next line of the file.  Basically it is acting exactly like an `input()` function that you’ve been using to get data from the keyboard.\n",
    "\n",
    "In order to successfully read and process data from files your program needs to know how the data is formatted."
   ]
  },
  {
   "cell_type": "markdown",
   "metadata": {},
   "source": [
    "<br>\n",
    "\n",
    "### Example 1 - Known File Size\n",
    "In this example, lets assume that you know exactly how many lines are in your data file. This is easy because we can just use a counted loop that executes as many times as there are lines in the file.  In that loop you would want to call `readline()` and then store that String somewhere.  Likely a list so you can process it after the fact. \n",
    "\n",
    "## ICS4U Interactive Learning Activity - Grade 12 Computer Science\n",
    "Let’s look at a data file that contains a list of 10 integers\n",
    "\n",
    "- The integers are stored in the text file 1 integer per line\n",
    "\n",
    "You need to create this file.  If you want to use the python editor below on the web, just click the + button on the right hand side of the editor and it will create a text file that you can rename whatever you want.  (If you want to try on your computer then you can just create a file using any text editor)\n",
    "\n",
    "Enter some integers, one per line, into your file and execute the code below to see what happens"
   ]
  },
  {
   "cell_type": "code",
   "execution_count": null,
   "metadata": {},
   "outputs": [],
   "source": [
    "#Open the file for reading\n",
    "file = open(\"data.txt\",\"r\")\n",
    "\n",
    "#Make an empty list to store the data\n",
    "x = []\n",
    "\n",
    "#Read the 10 lines of the file and append to the list\n",
    "for i in range(0,10):\n",
    "\tx.append(file.readline())\n",
    "\n",
    "#Done reading so close the file\n",
    "file.close()\n",
    "\n",
    "#Print the results of the read to the screen\n",
    "print(x)"
   ]
  },
  {
   "cell_type": "markdown",
   "metadata": {},
   "source": [
    "Now if you look at your output you will see that it read the values and stored them in the list, but they are stored as strings, and also have the new line character attached to them. We need to strip that new line character and convert each number to an int.\n",
    "\n",
    "Modify your code as follows and run the program again.  Now you will notice you have a true list full of 10 integer values."
   ]
  },
  {
   "cell_type": "code",
   "execution_count": null,
   "metadata": {},
   "outputs": [],
   "source": [
    "#Open the file for reading\n",
    "file = open(\"data.txt\",\"r\")\n",
    "\n",
    "#Make an empty list to store the data\n",
    "x = []\n",
    "\n",
    "#Read the 10 lines of the file and append to the list\n",
    "for i in range(0,10):\n",
    "\tx.append(int(file.readline().rstrip(\"\\n\")))\n",
    "\n",
    "#Done reading so close the file\n",
    "file.close()\n",
    "\n",
    "#Print the results of the read to the screen\n",
    "print(x)"
   ]
  },
  {
   "cell_type": "markdown",
   "metadata": {},
   "source": [
    "<br>\n",
    "\n",
    "### Example 2 - Unknown File Size\n",
    "Sometimes you will have a file that you won’t know how much data is it when the program is written, or maybe the number of entries in the data file changes every time the program is run.  Perhaps its storing user data and users are constantly being added or deleted.  \n",
    "\n",
    "A simple way to handle that is to read a line of the file.  And if it reads as a blank line, assume you are at the end of the file and stop reading. \n",
    "\n",
    "## ICS4U Interactive Learning Activity - Grade 12 Computer Science\n",
    "Take the same data file you were using in the previous activity and modify your code to as follows.  "
   ]
  },
  {
   "cell_type": "code",
   "execution_count": null,
   "metadata": {},
   "outputs": [],
   "source": [
    "#Open the file for reading\n",
    "file = open(\"data.txt\",\"r\")\n",
    "\n",
    "#Make an empty list to store the data\n",
    "x = []\n",
    "\n",
    "#Read until a blank line is found\n",
    "#Only append when there is data found\n",
    "while True:\n",
    "    line = file.readline()\n",
    "    if line == \"\":\n",
    "        break\n",
    "    else:\n",
    "        x.append(int(line.rstrip(\"\\n\")))\n",
    "\n",
    "#Done reading so close the file\n",
    "file.close()\n",
    "\n",
    "#Print the results of the read to the screen\n",
    "print(x)"
   ]
  },
  {
   "cell_type": "markdown",
   "metadata": {},
   "source": [
    "Run the code several times and after each run, change the amount of data in the file and you should see that this code handles that change just fine."
   ]
  },
  {
   "cell_type": "markdown",
   "metadata": {},
   "source": [
    "<br>\n",
    "\n",
    "### Example 3 - More than 1 piece of data per line\n",
    "Lets say in this example you have a data file that includes information about a person’s first name and their bank account balance. The data looks as follows in the file\n",
    "\n",
    "- Paul 45025.28\n",
    "\n",
    "- John 238.45\n",
    "\n",
    "- Tammy 65827.20\n",
    "\n",
    "- Rachel 45.25\n",
    "\n",
    "The program we will write will take that information and then find out who has the most money\n",
    "\n",
    "- I’ll write the program with the assumption that I don’t know how many pieces of data are in the file.\n",
    "\n",
    "- The information in each line is separated by a space\n",
    "\n",
    "The general strategy would be to read the line and then use the `split()` function on that String to separate the data into its pieces (tokens).  "
   ]
  },
  {
   "cell_type": "code",
   "execution_count": null,
   "metadata": {},
   "outputs": [],
   "source": [
    "#Open the data\n",
    "file = open(\"data.txt\", \"r\")\n",
    "\n",
    "#Lists to store names and bank info\n",
    "name = []\n",
    "bankAmount = []\n",
    "\n",
    "#Loop for as much data as is in the file\n",
    "while True:\n",
    "    line = file.readline()\n",
    "    if line == \"\":\n",
    "        break\n",
    "    else:\n",
    "\n",
    "        #Split the line into tokens delimited by blank spaces\n",
    "        tokens = line.split(\" \")\n",
    "\n",
    "        #The name is the first token\n",
    "        name.append(tokens[0])\n",
    "\n",
    "        #The bank value is the second token, but it has the \\n attached to it\n",
    "        bankAmount.append(float(tokens[1].rstrip(\"\\n\")))\n",
    "\n",
    "#Done with reading\n",
    "file.close()\n",
    "\n",
    "#Now process the data to solve the problem\n",
    "\n",
    "#Find max bank account value\n",
    "maxBank = max(bankAmount)\n",
    "\n",
    "#Find the location in the list for that value\n",
    "location = bankAmount.index(maxBank)\n",
    "\n",
    "#Get the person at that location\n",
    "maxPerson = name[location]\n",
    "\n",
    "print(\"The person with the hightest bank account is:\", maxPerson)"
   ]
  },
  {
   "cell_type": "markdown",
   "metadata": {},
   "source": [
    "<br>\n",
    "\n",
    "### Example 4 - Reading Data Into a 2D List\n",
    "Let’s say that in the example above you didn’t want the data into two separate lists, but you wanted it stored in only one, 2D list.\n",
    "\n",
    "- The data file is the same as in example 3\n",
    "\n",
    "- When this program is finished you can see from the output that each row of the data file is parsed into its correct data type and stored as an individual element in a 2D List"
   ]
  },
  {
   "cell_type": "code",
   "execution_count": null,
   "metadata": {},
   "outputs": [],
   "source": [
    "#Open the data\n",
    "file = open(\"data.txt\", \"r\")\n",
    "\n",
    "#2D list to store the data\n",
    "bankAccount = []\n",
    "\n",
    "#Loop for as much data as is in the file\n",
    "while True:\n",
    "    line = file.readline()\n",
    "    if line == \"\":\n",
    "        break\n",
    "    else:\n",
    "\n",
    "        #Create a blank row for the 2D List\n",
    "        row = []\n",
    "\n",
    "        #Split the line into tokens delimited by blank spaces\n",
    "        tokens = line.split(\" \")\n",
    "\n",
    "        #The name is the first token\n",
    "        theName = tokens[0]\n",
    "\n",
    "        #The bank value is the second token, but it has the \\n attached to it\n",
    "        theAmount = float(tokens[1].rstrip(\"\\n\"))\n",
    "\n",
    "        #Append the data to the row\n",
    "        row.append(theName)\n",
    "        row.append(theAmount)\n",
    "\n",
    "        #Append the entire row to the 2D List\n",
    "        bankAccount.append(row)\n",
    "\n",
    "\n",
    "#Done with reading\n",
    "file.close()\n",
    "\n",
    "#You can see the structure of the 2D list with this if statement\n",
    "print(bankAccount)\n",
    "\n",
    "#You can see that you can access each invidividual value using a nested loop\n",
    "for i in range(0,len(bankAccount)):\n",
    "    for j in range(0,len(bankAccount[i])):\n",
    "        print(bankAccount[i][j],end = \" \")\n",
    "    print(\"\")"
   ]
  },
  {
   "cell_type": "markdown",
   "metadata": {},
   "source": [
    "<br>\n",
    "\n",
    "# Opening a Text File for Writing\n",
    "When you want to write data to a file there are two options\n",
    "\n",
    "Write -> This clears all data from the file and overwrites it with whatever you want.  \n",
    "Append -> This adds your data to the end of an existing file.\n",
    "Note:  If the file you are opening for writing doesn’t exist, it will make it for you."
   ]
  },
  {
   "cell_type": "code",
   "execution_count": null,
   "metadata": {},
   "outputs": [],
   "source": [
    "#Opens a data file to write to\n",
    "file = open(\"data.txt\",\"w\")\n",
    "\n",
    "#Opens a data file to append to\n",
    "file = open(\"data.txt\",\"a\")"
   ]
  },
  {
   "cell_type": "markdown",
   "metadata": {},
   "source": [
    "The function you need to write data is the `write()` function.  \n",
    "\n",
    "- It accepts a single string as an argument.  (Might need to convert data using `str()`)\n",
    "\n",
    "- It doesn’t automatically go to the next line of the file after using it, so multiple write commands will keep putting data on the same line of the file unless you specifically add the new line character `\\n`\n",
    "\n",
    "- It also won’t add any delimiters like spaces, or commas between the text, so those would have to be specified manually\n",
    "\n",
    "No data is actually written to the file itself until a close() function is called.  So don’t forget that.  "
   ]
  },
  {
   "cell_type": "markdown",
   "metadata": {},
   "source": [
    "<br>\n",
    "\n",
    "## Example 4 - Writing Data\n",
    "The following example just writes some random data to a file named “dataOUT.txt”\n",
    "\n",
    "The data will be written on the same line\n",
    "There won’t be any delimiters between the data\n",
    "The file pointer remains on the same line as the data"
   ]
  },
  {
   "cell_type": "code",
   "execution_count": null,
   "metadata": {},
   "outputs": [],
   "source": [
    "#Open the data\n",
    "file = open(\"dataOUT.txt\", \"w\")\n",
    "\n",
    "#Some data to write to the file\n",
    "x = \"Paul\"\n",
    "y = 50\n",
    "z = 25.35\n",
    "\n",
    "#Write Data to file\n",
    "file.write(x)\n",
    "file.write(str(y))\n",
    "file.write(str(z))\n",
    "\n",
    "#Close file so it actually writes\n",
    "file.close()"
   ]
  },
  {
   "cell_type": "markdown",
   "metadata": {},
   "source": [
    "Perhaps a better way to write data to a file is to form each line of the file and then write the entire line using a single `write()` function"
   ]
  },
  {
   "cell_type": "code",
   "execution_count": null,
   "metadata": {},
   "outputs": [],
   "source": [
    "#Open the data\n",
    "file = open(\"dataOUT.txt\", \"w\")\n",
    "\n",
    "#Some data to write to the file\n",
    "x = \"Paul\"\n",
    "y = 50\n",
    "z = 25.35\n",
    "\n",
    "#Write Data to file\n",
    "line = x + \" \" + str(y) + \" \" + str(z) + \"\\n\"\n",
    "file.write(line)\n",
    "\n",
    "#Close file so it actually writes\n",
    "file.close()"
   ]
  },
  {
   "cell_type": "markdown",
   "metadata": {},
   "source": [
    "<br>\n",
    "\n",
    "## Example 5 - Writing Data from Lists\n",
    "In this example it takes data stored in lists and writes the data one per line to a file, delimited by spaces"
   ]
  },
  {
   "cell_type": "code",
   "execution_count": null,
   "metadata": {},
   "outputs": [],
   "source": [
    "#Open the data\n",
    "file = open(\"dataOUT.txt\", \"w\")\n",
    "\n",
    "#Data to Write\n",
    "x = [\"Paul\", \"Jim\", \"Kevin\", \"Kate\", \"Sidney\"]\n",
    "y = [5,15,30,17,20]\n",
    "\n",
    "#Loop through the data and write it the file [name],[number]\n",
    "for i in range(0,len(x)):\n",
    "  line = x[i] + \" \" + str(y[i]) + \"\\n\"\n",
    "  file.write(line)\n",
    "\n",
    "#Close File\n",
    "file.close()"
   ]
  },
  {
   "cell_type": "markdown",
   "metadata": {},
   "source": [
    "<br>\n",
    "\n",
    "## ICS4U Interactive Learning Activity - Grade 12 Computer Science\n",
    "Take the code in the previous examples and run it in editor so you can see how the file is created"
   ]
  }
 ],
 "metadata": {
  "language_info": {
   "name": "python"
  }
 },
 "nbformat": 4,
 "nbformat_minor": 2
}
