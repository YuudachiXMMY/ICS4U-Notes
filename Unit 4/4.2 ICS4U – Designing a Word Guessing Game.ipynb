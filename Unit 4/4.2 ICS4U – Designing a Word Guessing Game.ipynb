{
 "cells": [
  {
   "cell_type": "markdown",
   "metadata": {},
   "source": [
    "# ICS4U – Designing a Word Guessing Game\n",
    "\n",
    "## ICS4U Learning Goals\n",
    "In this ICS4U Grade 12 Computer Science lesson you will be learning how to\n",
    "\n",
    "- Create a software project plan\n",
    "\n",
    "- Execute a software project plan\n",
    "\n",
    "- Review and reflect on a larger software project\n",
    "\n",
    "- Practice Good Time Management in developing a software project"
   ]
  },
  {
   "cell_type": "markdown",
   "metadata": {},
   "source": [
    "# Creating a Software Plan\n",
    "## Determine Requirements\n",
    "\n",
    "### ICS4U - Word Guessing Game Demo\n",
    "\n",
    "[Word Guessing Game Demo](https://www.youtube.com/watch?v=0ghdeq6IThk)\n"
   ]
  },
  {
   "cell_type": "markdown",
   "metadata": {},
   "source": [
    "<br>\n",
    "\n",
    "## ICS4U Interactive Learning Activity - Grade 12 Computer Science\n",
    "\n",
    "Write out a project scope document outlining all the requirements needed for designing this game.  Include a Gantt Chart outlining a projected timeline for completing the project"
   ]
  },
  {
   "cell_type": "markdown",
   "metadata": {},
   "source": [
    "<br>\n",
    "\n",
    "# Execute the Software Plan\n",
    "\n",
    "## ICS4U Interactive Learning Activity - Grade 12 Computer Science\n",
    "\n",
    "Below are Videos that outline the steps to code this project.  Follow along with the videos and get this project working on your machine.\n",
    "\n",
    "TO BE UPLOADED"
   ]
  }
 ],
 "metadata": {
  "language_info": {
   "name": "python"
  }
 },
 "nbformat": 4,
 "nbformat_minor": 2
}
